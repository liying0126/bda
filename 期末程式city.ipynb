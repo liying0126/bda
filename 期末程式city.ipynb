{
  "nbformat": 4,
  "nbformat_minor": 0,
  "metadata": {
    "colab": {
      "provenance": [],
      "authorship_tag": "ABX9TyOFCdYnX+V6YYx7mHPj8+Rp",
      "include_colab_link": true
    },
    "kernelspec": {
      "name": "python3",
      "display_name": "Python 3"
    },
    "language_info": {
      "name": "python"
    }
  },
  "cells": [
    {
      "cell_type": "markdown",
      "metadata": {
        "id": "view-in-github",
        "colab_type": "text"
      },
      "source": [
        "<a href=\"https://colab.research.google.com/github/liying0126/bda/blob/main/%E6%9C%9F%E6%9C%AB%E7%A8%8B%E5%BC%8Fcity.ipynb\" target=\"_parent\"><img src=\"https://colab.research.google.com/assets/colab-badge.svg\" alt=\"Open In Colab\"/></a>"
      ]
    },
    {
      "cell_type": "code",
      "execution_count": null,
      "metadata": {
        "colab": {
          "base_uri": "https://localhost:8080/"
        },
        "id": "YjOAswepHj1H",
        "outputId": "3ca97254-559e-46f7-81e2-32a556cb845d"
      },
      "outputs": [
        {
          "output_type": "stream",
          "name": "stdout",
          "text": [
            "旅遊順序:\n",
            "A\n",
            "E\n",
            "D\n",
            "C\n",
            "B\n",
            "F\n",
            "G\n",
            "總花費為:  48704.57613804574\n"
          ]
        }
      ],
      "source": [
        "import math\n",
        "\n",
        "class City:\n",
        "    def __init__(self, name, coordinates, accommodation_cost):\n",
        "        self.name = name\n",
        "        self.coordinates = coordinates\n",
        "        self.accommodation_cost = accommodation_cost\n",
        "\n",
        "    def calculate_discounted_cost(self, previous_city):\n",
        "        if previous_city is None:\n",
        "            return self.accommodation_cost\n",
        "        else:\n",
        "            distance = math.sqrt((self.coordinates[0] - previous_city.coordinates[0])**2 + (self.coordinates[1] - previous_city.coordinates[1])**2)\n",
        "            discount = 0.8 if previous_city.name in ['C', 'G'] and self.name in ['A', 'B'] else 1.0\n",
        "            return self.accommodation_cost * discount + distance * 100\n",
        "\n",
        "def find_cheapest_itinerary(start_city, cities):\n",
        "    visited_cities = [start_city]\n",
        "    remaining_cities = cities.copy()\n",
        "    remaining_cities.remove(start_city)\n",
        "    total_cost = 0\n",
        "\n",
        "    while remaining_cities:\n",
        "        cheapest_cost = float('inf')\n",
        "        cheapest_city = None\n",
        "\n",
        "        for city in remaining_cities:\n",
        "            cost = city.calculate_discounted_cost(visited_cities[-1])\n",
        "            if cost < cheapest_cost:\n",
        "                cheapest_cost = cost\n",
        "                cheapest_city = city\n",
        "\n",
        "        visited_cities.append(cheapest_city)\n",
        "        remaining_cities.remove(cheapest_city)\n",
        "        total_cost += cheapest_cost\n",
        "\n",
        "    return visited_cities, total_cost\n",
        "\n",
        "# Create the cities\n",
        "A = City('A', (0, 0), 2000)\n",
        "B = City('B', (0, 120), 2400)\n",
        "C = City('C', (30, 100), 2400)\n",
        "D = City('D', (80, 0), 1600)\n",
        "E = City('E', (45, 10), 1500)\n",
        "F = City('F', (90, 160), 2200)\n",
        "G = City('G', (120, 200), 1200)\n",
        "\n",
        "cities = [A, B, C, D, E, F, G]\n",
        "\n",
        "# Find the cheapest itinerary\n",
        "itinerary, total_cost = find_cheapest_itinerary(A, cities)\n",
        "\n",
        "# Print the results\n",
        "print(\"旅遊順序:\")\n",
        "for city in itinerary:\n",
        "    print(city.name)\n",
        "print(\"總花費為: \", total_cost)\n"
      ]
    }
  ]
}