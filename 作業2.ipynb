{
  "nbformat": 4,
  "nbformat_minor": 0,
  "metadata": {
    "colab": {
      "provenance": [],
      "authorship_tag": "ABX9TyMkwNihtsrlJwkkVPUOli3L",
      "include_colab_link": true
    },
    "kernelspec": {
      "name": "python3",
      "display_name": "Python 3"
    },
    "language_info": {
      "name": "python"
    }
  },
  "cells": [
    {
      "cell_type": "markdown",
      "metadata": {
        "id": "view-in-github",
        "colab_type": "text"
      },
      "source": [
        "<a href=\"https://colab.research.google.com/github/liying0126/bda/blob/main/%E4%BD%9C%E6%A5%AD2.ipynb\" target=\"_parent\"><img src=\"https://colab.research.google.com/assets/colab-badge.svg\" alt=\"Open In Colab\"/></a>"
      ]
    },
    {
      "cell_type": "code",
      "execution_count": 1,
      "metadata": {
        "colab": {
          "base_uri": "https://localhost:8080/"
        },
        "id": "g2BpSCrEkNnA",
        "outputId": "650d113c-0000-4b3e-d4b6-bdb5f5e80d95"
      },
      "outputs": [
        {
          "output_type": "stream",
          "name": "stdout",
          "text": [
            "文章總共有 127 個字（包含標點符號）\n"
          ]
        }
      ],
      "source": [
        "text = \"大道之行也，天  下為公。 選賢與能，講信  修睦。故人不獨親其親，不獨子其子；使老有所終，壯有 所用，幼有 所長，矜寡孤獨廢疾者，皆有所養；男有分 女有歸。貨惡其棄 於地也不必藏於  己；力惡其不  出於身也不必為己。是故 謀閉而不興 ，盜竊亂賊而不作，故外戶而 不閉，是謂「大同」。\"\n",
        "text =text.replace(\" \", \"\")\n",
        "num_chars = len(text)\n",
        "\n",
        "print(\"文章總共有\", num_chars, \"字（包含標點符號）\")"
      ]
    },
    {
      "cell_type": "code",
      "source": [
        "text = \"大道之行也，天下為公。選賢與能，講信修睦。故人不獨親其親，不獨子其子；使老有所終，壯有所用，幼有所長，矜寡孤獨廢疾者，皆有所養；男有分女有歸。貨惡其棄於地也不必藏於己；力惡其不出於身也不必為己。是故謀閉而不興，盜竊亂賊而不作，故外戶而不閉，是謂「大同」。\"\n",
        "\n",
        "punctuations = [\"，\", \"。\", \"；\", \"：\", \"？\", \"！\"]\n",
        "\n",
        "paragraphs = [text]\n",
        "\n",
        "for punctuation in punctuations:\n",
        "    new_paragraphs = []\n",
        "    \n",
        "    for paragraph in paragraphs:\n",
        "        sub_paragraphs = paragraph.split(punctuation)\n",
        "        new_paragraphs += sub_paragraphs\n",
        "    paragraphs = new_paragraphs\n",
        "    \n",
        "if paragraphs[-1] == '':\n",
        "    paragraphs.pop()\n",
        "\n",
        "for i, paragraph in enumerate(paragraphs):\n",
        "    print(format(paragraph))"
      ],
      "metadata": {
        "colab": {
          "base_uri": "https://localhost:8080/"
        },
        "id": "tzHmhY1flAUL",
        "outputId": "b709f40b-f77d-4a6a-97a5-8132a797edd7"
      },
      "execution_count": 2,
      "outputs": [
        {
          "output_type": "stream",
          "name": "stdout",
          "text": [
            "大道之行也\n",
            "天下為公\n",
            "選賢與能\n",
            "講信修睦\n",
            "故人不獨親其親\n",
            "不獨子其子\n",
            "使老有所終\n",
            "壯有所用\n",
            "幼有所長\n",
            "矜寡孤獨廢疾者\n",
            "皆有所養\n",
            "男有分女有歸\n",
            "貨惡其棄於地也不必藏於己\n",
            "力惡其不出於身也不必為己\n",
            "是故謀閉而不興\n",
            "盜竊亂賊而不作\n",
            "故外戶而不閉\n",
            "是謂「大同」\n"
          ]
        }
      ]
    },
    {
      "cell_type": "code",
      "source": [
        "text = \"大道之行也，天下為公。選賢與能，講信修睦。故人不獨親其親，不獨子其子；使老有所終，壯有所用，幼有所長，矜寡孤獨廢疾者，皆有所養；男有分女有歸。貨惡其棄於地也不必藏於己；力惡其不出於身也不必為己。是故謀閉而不興，盜竊亂賊而不作，故外戶而不閉，是謂「大同」。\"\n",
        "\n",
        "count = text.count(\"不\")\n",
        "print(\"文章中總共有\", count, \"個「不」字。\")"
      ],
      "metadata": {
        "colab": {
          "base_uri": "https://localhost:8080/"
        },
        "id": "ZsLjr3C2lGtP",
        "outputId": "519ff145-2cd1-44c9-ae86-e38004014255"
      },
      "execution_count": 3,
      "outputs": [
        {
          "output_type": "stream",
          "name": "stdout",
          "text": [
            "文章中總共有 8 個「不」字。\n"
          ]
        }
      ]
    }
  ]
}